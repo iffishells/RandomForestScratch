{
 "cells": [
  {
   "cell_type": "code",
   "execution_count": 1,
   "id": "3e39fe77-f612-4f88-b758-bb526380a825",
   "metadata": {},
   "outputs": [],
   "source": [
    "# Training a Decision Tree classifer\n",
    "\n",
    "from sklearn.tree import DecisionTreeClassifier\n",
    "from sklearn import datasets\n",
    "\n"
   ]
  },
  {
   "cell_type": "code",
   "execution_count": 13,
   "id": "d8fa3c1b-efa2-45f9-8792-9338bc264eb8",
   "metadata": {},
   "outputs": [
    {
     "data": {
      "text/plain": [
       "array([[0., 1., 0.]])"
      ]
     },
     "execution_count": 13,
     "metadata": {},
     "output_type": "execute_result"
    }
   ],
   "source": [
    "# load data\n",
    "Iris = datasets.load_iris()\n",
    "Features = Iris.data\n",
    "Target = Iris.target\n",
    "\n",
    "# (Features , Target)\n",
    "DecisionTree = DecisionTreeClassifier(random_state=0)\n",
    "\n",
    "# train model\n",
    "model = DecisionTree.fit(Features,target)\n",
    "\n",
    "# make new observation\n",
    "Observation = [[5,4,3,2]]\n",
    "\n",
    "# predict observation class\n",
    "model.predict(Observation)\n",
    "\n",
    "# view predicted class probabilities for the three classes\n",
    "model.predict_proba(Observation)\n"
   ]
  },
  {
   "cell_type": "code",
   "execution_count": 16,
   "id": "ab7f368c-e876-4b1a-924f-213901d39502",
   "metadata": {},
   "outputs": [
    {
     "data": {
      "text/plain": [
       "array([1])"
      ]
     },
     "execution_count": 16,
     "metadata": {},
     "output_type": "execute_result"
    }
   ],
   "source": [
    "# create Decision Tree classifer object using entropy\n",
    "DecisionTreeEntropy = DecisionTreeClassifier(\n",
    "                        criterion=\"entropy\",\n",
    "                        random_state=0)\n",
    "\n",
    "# train model\n",
    "Model_Entropy = DecisionTreeEntropy.fit(Features,target)\n",
    "\n",
    "Model_Entropy.predict(Observation)"
   ]
  },
  {
   "cell_type": "markdown",
   "id": "09ca31ce-7368-4ca1-8e6e-1c44cda9febe",
   "metadata": {},
   "source": [
    "# Training a Decision Tree Regressor\n"
   ]
  },
  {
   "cell_type": "code",
   "execution_count": 18,
   "id": "8957f43a-463d-405a-9a36-fc5e05df159f",
   "metadata": {},
   "outputs": [],
   "source": [
    "from sklearn.tree import DecisionTreeRegressor\n",
    "from sklearn import datasets\n",
    "\n",
    "# load the data and only two features\n",
    "\n",
    "Boston = datasets.load_boston()\n",
    "Features = Boston.data[:,0:2]\n",
    "Target = Boston.target\n",
    "\n",
    "\n",
    "# create decision tree classifer object\n",
    "DecisionTree = DecisionTreeRegressor(random_state=0)\n",
    "\n",
    "# train model\n",
    "model = DecisionTree.fit(Features,Target)"
   ]
  },
  {
   "cell_type": "markdown",
   "id": "5b2c7d08-500a-4c82-a6d9-c6add3e12c09",
   "metadata": {},
   "source": [
    "# Random Forest Classifer\n"
   ]
  },
  {
   "cell_type": "code",
   "execution_count": 21,
   "id": "3a107561-e74d-42bf-a084-b87bf3ae0a57",
   "metadata": {},
   "outputs": [
    {
     "data": {
      "text/plain": [
       "array([1])"
      ]
     },
     "execution_count": 21,
     "metadata": {},
     "output_type": "execute_result"
    }
   ],
   "source": [
    "# load lib's\n",
    "from sklearn.ensemble import RandomForestClassifier\n",
    "from sklearn import datasets\n",
    "\n",
    "\n",
    "# load data\n",
    "Iris = datasets.load_iris()\n",
    "Features = Iris.data\n",
    "Target = Iris.target\n",
    "\n",
    "# create random forest classifier object\n",
    "\n",
    "RandomForest = RandomForestClassifier(random_state=0,\n",
    "                                    n_jobs=-1)\n",
    "\n",
    "# train model\n",
    "model = RandomForest.fit(Features,target)\n",
    "\n",
    "\n",
    "# make new observation\n",
    "Observation = [[5,4,3,2]]\n",
    "\n",
    "# prediction\n",
    "model.predict(Observation)"
   ]
  },
  {
   "cell_type": "code",
   "execution_count": 22,
   "id": "d3dc4f6c-cd51-4337-a8f6-cbd17d691df6",
   "metadata": {},
   "outputs": [],
   "source": [
    "# create random forest classifer object using entroy\n",
    "RandomForestEntropy = RandomForestClassifier(criterion=\"entropy\",random_state=0)\n",
    "\n",
    "\n",
    "# train model\n",
    "model_entropy = RandomForestEntropy.fit(Features,target)\n"
   ]
  },
  {
   "cell_type": "code",
   "execution_count": null,
   "id": "8754909a-67cf-495b-857c-45b651e723de",
   "metadata": {},
   "outputs": [],
   "source": []
  }
 ],
 "metadata": {
  "kernelspec": {
   "display_name": "Python 3 (ipykernel)",
   "language": "python",
   "name": "python3"
  },
  "language_info": {
   "codemirror_mode": {
    "name": "ipython",
    "version": 3
   },
   "file_extension": ".py",
   "mimetype": "text/x-python",
   "name": "python",
   "nbconvert_exporter": "python",
   "pygments_lexer": "ipython3",
   "version": "3.9.7"
  }
 },
 "nbformat": 4,
 "nbformat_minor": 5
}
