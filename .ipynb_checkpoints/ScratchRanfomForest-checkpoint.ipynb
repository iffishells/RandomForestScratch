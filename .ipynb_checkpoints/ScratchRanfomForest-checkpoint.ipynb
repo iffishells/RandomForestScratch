{
 "cells": [
  {
   "cell_type": "code",
   "execution_count": 1,
   "id": "3e39fe77-f612-4f88-b758-bb526380a825",
   "metadata": {},
   "outputs": [],
   "source": [
    "# Training a Decision Tree classifer\n",
    "\n",
    "from sklearn.tree import DecisionTreeClassifier\n",
    "from sklearn import datasets\n",
    "\n"
   ]
  },
  {
   "cell_type": "code",
   "execution_count": 13,
   "id": "d8fa3c1b-efa2-45f9-8792-9338bc264eb8",
   "metadata": {},
   "outputs": [
    {
     "data": {
      "text/plain": [
       "array([[0., 1., 0.]])"
      ]
     },
     "execution_count": 13,
     "metadata": {},
     "output_type": "execute_result"
    }
   ],
   "source": [
    "# load data\n",
    "Iris = datasets.load_iris()\n",
    "Features = Iris.data\n",
    "Target = Iris.target\n",
    "\n",
    "# (Features , Target)\n",
    "DecisionTree = DecisionTreeClassifier(random_state=0)\n",
    "\n",
    "# train model\n",
    "model = DecisionTree.fit(Features,target)\n",
    "\n",
    "# make new observation\n",
    "Observation = [[5,4,3,2]]\n",
    "\n",
    "# predict observation class\n",
    "model.predict(Observation)\n",
    "\n",
    "# view predicted class probabilities for the three classes\n",
    "model.predict_proba(Observation)\n"
   ]
  },
  {
   "cell_type": "code",
   "execution_count": null,
   "id": "ab7f368c-e876-4b1a-924f-213901d39502",
   "metadata": {},
   "outputs": [],
   "source": [
    "# create Decision Tree classifer object using entropy\n",
    "DecisionTreeEntropy = DecisionTreeClassifier(\n",
    "                        criterion=\"entropy\",\n",
    "                        random_state=0)"
   ]
  }
 ],
 "metadata": {
  "kernelspec": {
   "display_name": "Python 3 (ipykernel)",
   "language": "python",
   "name": "python3"
  },
  "language_info": {
   "codemirror_mode": {
    "name": "ipython",
    "version": 3
   },
   "file_extension": ".py",
   "mimetype": "text/x-python",
   "name": "python",
   "nbconvert_exporter": "python",
   "pygments_lexer": "ipython3",
   "version": "3.9.7"
  }
 },
 "nbformat": 4,
 "nbformat_minor": 5
}
